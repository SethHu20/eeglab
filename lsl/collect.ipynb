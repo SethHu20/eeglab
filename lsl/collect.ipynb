{
 "cells": [
  {
   "cell_type": "code",
   "execution_count": 6,
   "metadata": {},
   "outputs": [
    {
     "data": {
      "text/plain": [
       "0"
      ]
     },
     "execution_count": 6,
     "metadata": {},
     "output_type": "execute_result"
    }
   ],
   "source": [
    "# import marker_stream\n",
    "# import viewer\n",
    "import subprocess\n",
    "\n",
    "subprocess.call(\"lsl_viewer\")"
   ]
  },
  {
   "cell_type": "markdown",
   "metadata": {},
   "source": [
    "## Example marker streaming"
   ]
  },
  {
   "cell_type": "code",
   "execution_count": 7,
   "metadata": {},
   "outputs": [
    {
     "name": "stdout",
     "output_type": "stream",
     "text": [
      "Marker Streaming ready\n",
      "1000\n",
      "1001\n",
      "1002\n",
      "1003\n",
      "1004\n",
      "1005\n",
      "1006\n",
      "1007\n",
      "1008\n"
     ]
    },
    {
     "ename": "KeyboardInterrupt",
     "evalue": "",
     "output_type": "error",
     "traceback": [
      "\u001b[1;31m---------------------------------------------------------------------------\u001b[0m",
      "\u001b[1;31mKeyboardInterrupt\u001b[0m                         Traceback (most recent call last)",
      "\u001b[1;32mc:\\Users\\sethh\\Files\\projects\\eeglab\\lsl\\collect.ipynb Cell 3\u001b[0m in \u001b[0;36m<cell line: 20>\u001b[1;34m()\u001b[0m\n\u001b[0;32m     <a href='vscode-notebook-cell:/c%3A/Users/sethh/Files/projects/eeglab/lsl/collect.ipynb#W2sZmlsZQ%3D%3D?line=20'>21</a>\u001b[0m outlet\u001b[39m.\u001b[39mpush_sample([i])\n\u001b[0;32m     <a href='vscode-notebook-cell:/c%3A/Users/sethh/Files/projects/eeglab/lsl/collect.ipynb#W2sZmlsZQ%3D%3D?line=21'>22</a>\u001b[0m \u001b[39mprint\u001b[39m(i)\n\u001b[1;32m---> <a href='vscode-notebook-cell:/c%3A/Users/sethh/Files/projects/eeglab/lsl/collect.ipynb#W2sZmlsZQ%3D%3D?line=22'>23</a>\u001b[0m time\u001b[39m.\u001b[39;49msleep(\u001b[39m3\u001b[39;49m)\n",
      "\u001b[1;31mKeyboardInterrupt\u001b[0m: "
     ]
    }
   ],
   "source": [
    "import time\n",
    "\n",
    "from pylsl import StreamInfo, StreamOutlet, IRREGULAR_RATE\n",
    "\n",
    "\n",
    "info = StreamInfo(\n",
    "    'TimeSeriesMarkerStream',\n",
    "    'Markers',\n",
    "    1,\n",
    "    IRREGULAR_RATE,\n",
    "    'int32',\n",
    "    'eegmarker1'\n",
    ")\n",
    "\n",
    "outlet = StreamOutlet(info)\n",
    "\n",
    "print(\"Marker Streaming ready\")\n",
    "\n",
    "\n",
    "for i in range(1000, 10000):\n",
    "    outlet.push_sample([i])\n",
    "    print(i)\n",
    "    time.sleep(3)"
   ]
  }
 ],
 "metadata": {
  "kernelspec": {
   "display_name": "Python 3.10.6 64-bit",
   "language": "python",
   "name": "python3"
  },
  "language_info": {
   "codemirror_mode": {
    "name": "ipython",
    "version": 3
   },
   "file_extension": ".py",
   "mimetype": "text/x-python",
   "name": "python",
   "nbconvert_exporter": "python",
   "pygments_lexer": "ipython3",
   "version": "3.10.6"
  },
  "orig_nbformat": 4,
  "vscode": {
   "interpreter": {
    "hash": "26de051ba29f2982a8de78e945f0abaf191376122a1563185a90213a26c5da77"
   }
  }
 },
 "nbformat": 4,
 "nbformat_minor": 2
}
